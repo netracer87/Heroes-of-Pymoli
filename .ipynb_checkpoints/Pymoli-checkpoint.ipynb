{
 "cells": [
  {
   "cell_type": "code",
   "execution_count": 2,
   "metadata": {},
   "outputs": [],
   "source": [
    "import pandas as pd\n",
    "import numpy as np"
   ]
  },
  {
   "cell_type": "code",
   "execution_count": 3,
   "metadata": {},
   "outputs": [
    {
     "data": {
      "text/html": [
       "<div>\n",
       "<style scoped>\n",
       "    .dataframe tbody tr th:only-of-type {\n",
       "        vertical-align: middle;\n",
       "    }\n",
       "\n",
       "    .dataframe tbody tr th {\n",
       "        vertical-align: top;\n",
       "    }\n",
       "\n",
       "    .dataframe thead th {\n",
       "        text-align: right;\n",
       "    }\n",
       "</style>\n",
       "<table border=\"1\" class=\"dataframe\">\n",
       "  <thead>\n",
       "    <tr style=\"text-align: right;\">\n",
       "      <th></th>\n",
       "      <th>Purchase ID</th>\n",
       "      <th>SN</th>\n",
       "      <th>Age</th>\n",
       "      <th>Gender</th>\n",
       "      <th>Item ID</th>\n",
       "      <th>Item Name</th>\n",
       "      <th>Price</th>\n",
       "    </tr>\n",
       "  </thead>\n",
       "  <tbody>\n",
       "    <tr>\n",
       "      <th>0</th>\n",
       "      <td>0</td>\n",
       "      <td>Lisim78</td>\n",
       "      <td>20</td>\n",
       "      <td>Male</td>\n",
       "      <td>108</td>\n",
       "      <td>Extraction, Quickblade Of Trembling Hands</td>\n",
       "      <td>3.53</td>\n",
       "    </tr>\n",
       "    <tr>\n",
       "      <th>1</th>\n",
       "      <td>1</td>\n",
       "      <td>Lisovynya38</td>\n",
       "      <td>40</td>\n",
       "      <td>Male</td>\n",
       "      <td>143</td>\n",
       "      <td>Frenzied Scimitar</td>\n",
       "      <td>1.56</td>\n",
       "    </tr>\n",
       "    <tr>\n",
       "      <th>2</th>\n",
       "      <td>2</td>\n",
       "      <td>Ithergue48</td>\n",
       "      <td>24</td>\n",
       "      <td>Male</td>\n",
       "      <td>92</td>\n",
       "      <td>Final Critic</td>\n",
       "      <td>4.88</td>\n",
       "    </tr>\n",
       "    <tr>\n",
       "      <th>3</th>\n",
       "      <td>3</td>\n",
       "      <td>Chamassasya86</td>\n",
       "      <td>24</td>\n",
       "      <td>Male</td>\n",
       "      <td>100</td>\n",
       "      <td>Blindscythe</td>\n",
       "      <td>3.27</td>\n",
       "    </tr>\n",
       "    <tr>\n",
       "      <th>4</th>\n",
       "      <td>4</td>\n",
       "      <td>Iskosia90</td>\n",
       "      <td>23</td>\n",
       "      <td>Male</td>\n",
       "      <td>131</td>\n",
       "      <td>Fury</td>\n",
       "      <td>1.44</td>\n",
       "    </tr>\n",
       "  </tbody>\n",
       "</table>\n",
       "</div>"
      ],
      "text/plain": [
       "   Purchase ID             SN  Age Gender  Item ID  \\\n",
       "0            0        Lisim78   20   Male      108   \n",
       "1            1    Lisovynya38   40   Male      143   \n",
       "2            2     Ithergue48   24   Male       92   \n",
       "3            3  Chamassasya86   24   Male      100   \n",
       "4            4      Iskosia90   23   Male      131   \n",
       "\n",
       "                                   Item Name  Price  \n",
       "0  Extraction, Quickblade Of Trembling Hands   3.53  \n",
       "1                          Frenzied Scimitar   1.56  \n",
       "2                               Final Critic   4.88  \n",
       "3                                Blindscythe   3.27  \n",
       "4                                       Fury   1.44  "
      ]
     },
     "execution_count": 3,
     "metadata": {},
     "output_type": "execute_result"
    }
   ],
   "source": [
    "file = \"purchase_data.csv\"\n",
    "\n",
    "# Read purchasing file and store into pandas data frame\n",
    "pymoli = pd.read_csv(file)\n",
    "pymoli.head()"
   ]
  },
  {
   "cell_type": "code",
   "execution_count": 4,
   "metadata": {},
   "outputs": [
    {
     "data": {
      "text/plain": [
       "576"
      ]
     },
     "execution_count": 4,
     "metadata": {},
     "output_type": "execute_result"
    }
   ],
   "source": [
    "# find total number of players\n",
    "total_players = len(pymoli['SN'].unique())\n",
    "total_players\n"
   ]
  },
  {
   "cell_type": "code",
   "execution_count": 5,
   "metadata": {},
   "outputs": [
    {
     "data": {
      "text/plain": [
       "183"
      ]
     },
     "execution_count": 5,
     "metadata": {},
     "output_type": "execute_result"
    }
   ],
   "source": [
    "# find number of unique items \n",
    "unique_items = len(pymoli['Item ID'].unique())\n",
    "unique_items"
   ]
  },
  {
   "cell_type": "code",
   "execution_count": 11,
   "metadata": {},
   "outputs": [
    {
     "name": "stdout",
     "output_type": "stream",
     "text": [
      "2379.77\n",
      "780\n",
      "3.0509871794871795\n",
      "4.99\n",
      "1.0\n"
     ]
    }
   ],
   "source": [
    "# find total revenue\n",
    "total_revenue = pymoli['Price'].sum()\n",
    "print(total_revenue)\n",
    "\n",
    "# find number of purchases\n",
    "total_purchases = pymoli['Item ID'].count()\n",
    "print(total_purchases)\n",
    "\n",
    "# find average price\n",
    "average_price = total_revenue / total_purchases\n",
    "print(average_price)\n",
    "\n",
    "print(max(pymoli['Price']))\n",
    "print(min(pymoli['Price']))\n"
   ]
  },
  {
   "cell_type": "code",
   "execution_count": 13,
   "metadata": {},
   "outputs": [
    {
     "data": {
      "text/html": [
       "<div>\n",
       "<style scoped>\n",
       "    .dataframe tbody tr th:only-of-type {\n",
       "        vertical-align: middle;\n",
       "    }\n",
       "\n",
       "    .dataframe tbody tr th {\n",
       "        vertical-align: top;\n",
       "    }\n",
       "\n",
       "    .dataframe thead th {\n",
       "        text-align: right;\n",
       "    }\n",
       "</style>\n",
       "<table border=\"1\" class=\"dataframe\">\n",
       "  <thead>\n",
       "    <tr style=\"text-align: right;\">\n",
       "      <th></th>\n",
       "      <th>Number of Unique Items</th>\n",
       "      <th>Average Price</th>\n",
       "      <th>Number of Purchases</th>\n",
       "      <th>Total Revenue</th>\n",
       "    </tr>\n",
       "  </thead>\n",
       "  <tbody>\n",
       "    <tr>\n",
       "      <th>0</th>\n",
       "      <td>183</td>\n",
       "      <td>$3.05</td>\n",
       "      <td>780</td>\n",
       "      <td>$2,379.77</td>\n",
       "    </tr>\n",
       "  </tbody>\n",
       "</table>\n",
       "</div>"
      ],
      "text/plain": [
       "   Number of Unique Items  Average Price  Number of Purchases  Total Revenue\n",
       "0                     183          $3.05                  780      $2,379.77"
      ]
     },
     "execution_count": 13,
     "metadata": {},
     "output_type": "execute_result"
    }
   ],
   "source": [
    "# combine above data into dataframe\n",
    "pd.options.display.float_format = '${:,.2f}'.format\n",
    "purchase_summary = pd.DataFrame({'Number of Unique Items': [unique_items], 'Average Price':[average_price],\\\n",
    "                                 'Number of Purchases': [total_purchases], 'Total Revenue':[total_revenue]})\n",
    "purchase_summary.head()"
   ]
  },
  {
   "cell_type": "code",
   "execution_count": 14,
   "metadata": {},
   "outputs": [
    {
     "name": "stdout",
     "output_type": "stream",
     "text": [
      "Male      652\n",
      "Female    113\n",
      "Other      15\n",
      "Name: Gender, dtype: int64\n",
      "652\n",
      "113\n",
      "15\n"
     ]
    }
   ],
   "source": [
    "# count of male/female/other players: non-unique (match original hw answers)\n",
    "\n",
    "# replace 'Other / Non-Disclosed' with 'Other' for cleaner splitting\n",
    "\n",
    "pymoli['Gender'] = pymoli['Gender'].replace(\n",
    "    {'Other / Non-Disclosed': 'Other'})\n",
    "\n",
    "player_counts_nonunique = pymoli['Gender'].value_counts()\n",
    "print(player_counts_nonunique)\n",
    "\n",
    "male_counts_nonunique = player_counts_nonunique['Male']\n",
    "female_counts_nonunique = player_counts_nonunique['Female']\n",
    "other_counts_nonunique = player_counts_nonunique['Other']\n",
    "print(male_counts_nonunique)\n",
    "print(female_counts_nonunique)\n",
    "print(other_counts_nonunique)\n",
    "\n",
    "# player_df = player_counts.rename_axis('gender').reset_index(name = 'counts')\n",
    "# player_df\n"
   ]
  },
  {
   "cell_type": "code",
   "execution_count": 15,
   "metadata": {},
   "outputs": [
    {
     "name": "stdout",
     "output_type": "stream",
     "text": [
      "484\n",
      "81\n",
      "11\n"
     ]
    }
   ],
   "source": [
    "# count of male/female/other players: unique\n",
    "# concatenate SN and Gender to find unique players\n",
    "\n",
    "pymoli['name gender']  = pymoli['SN'] + ' ' + pymoli['Gender']\n",
    "# pymoli_players = list(pymoli['name gender'].unique())\n",
    "\n",
    "pymoli_players = pymoli['name gender'].unique()\n",
    "pymoli_players_df = pd.DataFrame({'Players': pymoli_players})\n",
    "pymoli_players_df\n",
    "\n",
    "pymoli_players_split = pymoli_players_df['Players'].str.split(' ',1).str[1]\n",
    "pymoli_players_split\n",
    "male_counts = list(pymoli_players_split).count('Male')\n",
    "female_counts = list(pymoli_players_split).count('Female')\n",
    "other_counts = list(pymoli_players_split).count('Other')\n",
    "print(male_counts)\n",
    "print(female_counts)\n",
    "print(other_counts)\n"
   ]
  },
  {
   "cell_type": "code",
   "execution_count": 16,
   "metadata": {},
   "outputs": [
    {
     "name": "stdout",
     "output_type": "stream",
     "text": [
      "Gender\n",
      "Female    [Lisassa64, Reunasu60, Reulae52, Assosia88, Ph...\n",
      "Male      [Lisim78, Lisovynya38, Ithergue48, Chamassasya...\n",
      "Other     [Chanosian48, Siarithria38, Haerithp41, Sundim...\n",
      "Name: SN, dtype: object\n",
      "81\n",
      "484\n",
      "11\n"
     ]
    }
   ],
   "source": [
    "# count of male/female/other players: unique\n",
    "\n",
    "pymoli_unique = pymoli.groupby('Gender')['SN'].unique()\n",
    "print(pymoli_unique)\n",
    "print(len(pymoli_unique['Female']))\n",
    "print(len(pymoli_unique['Male']))\n",
    "print(len(pymoli_unique['Other']))\n"
   ]
  },
  {
   "cell_type": "code",
   "execution_count": 17,
   "metadata": {},
   "outputs": [
    {
     "data": {
      "text/html": [
       "<div>\n",
       "<style scoped>\n",
       "    .dataframe tbody tr th:only-of-type {\n",
       "        vertical-align: middle;\n",
       "    }\n",
       "\n",
       "    .dataframe tbody tr th {\n",
       "        vertical-align: top;\n",
       "    }\n",
       "\n",
       "    .dataframe thead th {\n",
       "        text-align: right;\n",
       "    }\n",
       "</style>\n",
       "<table border=\"1\" class=\"dataframe\">\n",
       "  <thead>\n",
       "    <tr style=\"text-align: right;\">\n",
       "      <th></th>\n",
       "      <th>Player Age</th>\n",
       "    </tr>\n",
       "  </thead>\n",
       "  <tbody>\n",
       "    <tr>\n",
       "      <th>0</th>\n",
       "      <td>20</td>\n",
       "    </tr>\n",
       "    <tr>\n",
       "      <th>1</th>\n",
       "      <td>40</td>\n",
       "    </tr>\n",
       "    <tr>\n",
       "      <th>2</th>\n",
       "      <td>24</td>\n",
       "    </tr>\n",
       "    <tr>\n",
       "      <th>3</th>\n",
       "      <td>24</td>\n",
       "    </tr>\n",
       "    <tr>\n",
       "      <th>4</th>\n",
       "      <td>23</td>\n",
       "    </tr>\n",
       "  </tbody>\n",
       "</table>\n",
       "</div>"
      ],
      "text/plain": [
       "   Player Age\n",
       "0          20\n",
       "1          40\n",
       "2          24\n",
       "3          24\n",
       "4          23"
      ]
     },
     "execution_count": 17,
     "metadata": {},
     "output_type": "execute_result"
    }
   ],
   "source": [
    "# add 'age' dimension: unique\n",
    "\n",
    "# pymoli['Age']\n",
    "\n",
    "pymoli['name gender age']  = pymoli['SN'] + ' ' + pymoli['Gender'] + ' ' + pymoli['Age'].map(str)\n",
    "                           \n",
    "pymoli.head()\n",
    "\n",
    "\n",
    "pymoli_players2 = pymoli['name gender age'].unique()\n",
    "pymoli_players2_df = pd.DataFrame({'Players': pymoli_players2})\n",
    "pymoli_players2_df.head()\n",
    "\n",
    "player_age = pymoli_players2_df['Players'].str.split(' ',2).str[2].astype(int)\n",
    "player_age = pd.DataFrame({'Player Age': player_age})\n",
    "player_age.head()\n"
   ]
  },
  {
   "cell_type": "code",
   "execution_count": null,
   "metadata": {},
   "outputs": [],
   "source": []
  },
  {
   "cell_type": "code",
   "execution_count": 18,
   "metadata": {},
   "outputs": [
    {
     "name": "stdout",
     "output_type": "stream",
     "text": [
      "780\n",
      "0.8358974358974359\n",
      "0.14487179487179488\n",
      "0.019230769230769232\n"
     ]
    }
   ],
   "source": [
    "# calculate percent of players by gender: nonunique, match original hw answers\n",
    "\n",
    "total_players_nonunique = len(pymoli['Gender'])\n",
    "print(total_players_nonunique)\n",
    "\n",
    "male_pct = male_counts_nonunique / total_players_nonunique\n",
    "female_pct = female_counts_nonunique / total_players_nonunique\n",
    "other_pct = other_counts_nonunique / total_players_nonunique\n",
    "print(male_pct)\n",
    "print(female_pct)\n",
    "print(other_pct)\n"
   ]
  },
  {
   "cell_type": "code",
   "execution_count": 19,
   "metadata": {},
   "outputs": [
    {
     "name": "stdout",
     "output_type": "stream",
     "text": [
      "0.8402777777777778\n",
      "0.140625\n",
      "0.019097222222222224\n"
     ]
    }
   ],
   "source": [
    "# calculate percent of players by gender: unique\n",
    "\n",
    "male_pct = male_counts / total_players\n",
    "female_pct = female_counts / total_players\n",
    "other_pct = other_counts / total_players\n",
    "print(male_pct)\n",
    "print(female_pct)\n",
    "print(other_pct)\n"
   ]
  },
  {
   "cell_type": "code",
   "execution_count": 20,
   "metadata": {},
   "outputs": [
    {
     "data": {
      "text/html": [
       "<div>\n",
       "<style scoped>\n",
       "    .dataframe tbody tr th:only-of-type {\n",
       "        vertical-align: middle;\n",
       "    }\n",
       "\n",
       "    .dataframe tbody tr th {\n",
       "        vertical-align: top;\n",
       "    }\n",
       "\n",
       "    .dataframe thead th {\n",
       "        text-align: right;\n",
       "    }\n",
       "</style>\n",
       "<table border=\"1\" class=\"dataframe\">\n",
       "  <thead>\n",
       "    <tr style=\"text-align: right;\">\n",
       "      <th></th>\n",
       "      <th>Gender</th>\n",
       "      <th>Percentage of Players</th>\n",
       "      <th>Total Count</th>\n",
       "    </tr>\n",
       "  </thead>\n",
       "  <tbody>\n",
       "    <tr>\n",
       "      <th>0</th>\n",
       "      <td>Male</td>\n",
       "      <td>84.0%</td>\n",
       "      <td>484</td>\n",
       "    </tr>\n",
       "    <tr>\n",
       "      <th>1</th>\n",
       "      <td>Female</td>\n",
       "      <td>14.1%</td>\n",
       "      <td>81</td>\n",
       "    </tr>\n",
       "    <tr>\n",
       "      <th>2</th>\n",
       "      <td>Other / Non-Disclosed</td>\n",
       "      <td>1.9%</td>\n",
       "      <td>11</td>\n",
       "    </tr>\n",
       "  </tbody>\n",
       "</table>\n",
       "</div>"
      ],
      "text/plain": [
       "                  Gender  Percentage of Players  Total Count\n",
       "0                   Male                  84.0%          484\n",
       "1                 Female                  14.1%           81\n",
       "2  Other / Non-Disclosed                   1.9%           11"
      ]
     },
     "execution_count": 20,
     "metadata": {},
     "output_type": "execute_result"
    }
   ],
   "source": [
    "# format percentages\n",
    "pd.options.display.float_format = '{:,.1%}'.format\n",
    "\n",
    "# formatter = {'male_pct': '{:,.1%}','female_pct': '{:,.1%}','other_pct': '{:,.1%}'}\n",
    "\n",
    "gender = pd.DataFrame({'Gender': ['Male', 'Female', 'Other / Non-Disclosed'],'Percentage of Players': [male_pct, female_pct, other_pct],\\\n",
    "                      'Total Count': [male_counts, female_counts, other_counts]})\n",
    "\n",
    "gender\n"
   ]
  },
  {
   "cell_type": "code",
   "execution_count": 21,
   "metadata": {},
   "outputs": [
    {
     "name": "stdout",
     "output_type": "stream",
     "text": [
      "1967.64\n",
      "3.0178527607361967\n",
      "4.065371900826446\n",
      "361.94\n",
      "3.203008849557522\n",
      "4.468395061728395\n",
      "50.19\n",
      "3.3459999999999996\n",
      "4.5627272727272725\n"
     ]
    }
   ],
   "source": [
    "# calculate by gender: \n",
    "    # purchase count, avg purchase price, total purchase \n",
    "    # avg purchase total per person\n",
    "\n",
    "male_purchases = pymoli.loc[pymoli['Gender'] == \"Male\"]\n",
    "male_purchases.head()\n",
    "male_purchases_total = male_purchases['Price'].sum()\n",
    "print(male_purchases_total)\n",
    "male_purchase_price_avg = male_purchases_total / male_counts_nonunique\n",
    "print(male_purchase_price_avg)\n",
    "male_purchases_per_person = male_purchases_total / male_counts\n",
    "print(male_purchases_per_person)\n",
    "\n",
    "female_purchases = pymoli.loc[pymoli['Gender'] == \"Female\"]\n",
    "female_purchases.head()\n",
    "female_purchases_total = female_purchases['Price'].sum()\n",
    "print(female_purchases_total)\n",
    "female_purchase_price_avg = female_purchases_total / female_counts_nonunique\n",
    "print(female_purchase_price_avg)\n",
    "female_purchases_per_person = female_purchases_total / female_counts\n",
    "print(female_purchases_per_person)\n",
    "\n",
    "other_purchases = pymoli.loc[pymoli['Gender'] == \"Other\"]\n",
    "other_purchases.head()\n",
    "other_purchases_total = other_purchases['Price'].sum()\n",
    "print(other_purchases_total)\n",
    "other_purchase_price_avg = other_purchases_total / other_counts_nonunique\n",
    "print(other_purchase_price_avg)\n",
    "other_purchases_per_person = other_purchases_total / other_counts\n",
    "print(other_purchases_per_person)\n",
    "\n"
   ]
  },
  {
   "cell_type": "code",
   "execution_count": 23,
   "metadata": {},
   "outputs": [
    {
     "data": {
      "text/html": [
       "<div>\n",
       "<style scoped>\n",
       "    .dataframe tbody tr th:only-of-type {\n",
       "        vertical-align: middle;\n",
       "    }\n",
       "\n",
       "    .dataframe tbody tr th {\n",
       "        vertical-align: top;\n",
       "    }\n",
       "\n",
       "    .dataframe thead th {\n",
       "        text-align: right;\n",
       "    }\n",
       "</style>\n",
       "<table border=\"1\" class=\"dataframe\">\n",
       "  <thead>\n",
       "    <tr style=\"text-align: right;\">\n",
       "      <th></th>\n",
       "      <th>Gender</th>\n",
       "      <th>Purchase Count</th>\n",
       "      <th>Average Purchase Price</th>\n",
       "      <th>Total Purchase Value</th>\n",
       "      <th>Average Purchase Total per Person</th>\n",
       "    </tr>\n",
       "  </thead>\n",
       "  <tbody>\n",
       "    <tr>\n",
       "      <th>0</th>\n",
       "      <td>Female</td>\n",
       "      <td>113</td>\n",
       "      <td>$3.20</td>\n",
       "      <td>$361.94</td>\n",
       "      <td>$4.47</td>\n",
       "    </tr>\n",
       "    <tr>\n",
       "      <th>1</th>\n",
       "      <td>Male</td>\n",
       "      <td>652</td>\n",
       "      <td>$3.02</td>\n",
       "      <td>$1,967.64</td>\n",
       "      <td>$4.07</td>\n",
       "    </tr>\n",
       "    <tr>\n",
       "      <th>2</th>\n",
       "      <td>Other / Non-Disclosed</td>\n",
       "      <td>15</td>\n",
       "      <td>$3.35</td>\n",
       "      <td>$50.19</td>\n",
       "      <td>$4.56</td>\n",
       "    </tr>\n",
       "  </tbody>\n",
       "</table>\n",
       "</div>"
      ],
      "text/plain": [
       "                  Gender  Purchase Count  Average Purchase Price  \\\n",
       "0                 Female             113                   $3.20   \n",
       "1                   Male             652                   $3.02   \n",
       "2  Other / Non-Disclosed              15                   $3.35   \n",
       "\n",
       "   Total Purchase Value  Average Purchase Total per Person  \n",
       "0               $361.94                              $4.47  \n",
       "1             $1,967.64                              $4.07  \n",
       "2                $50.19                              $4.56  "
      ]
     },
     "execution_count": 23,
     "metadata": {},
     "output_type": "execute_result"
    }
   ],
   "source": [
    "# format the dataframe\n",
    "pd.options.display.float_format = '${:,.2f}'.format\n",
    "\n",
    "purchases = pd.DataFrame({'Gender': ['Female', 'Male', 'Other / Non-Disclosed'], \\\n",
    "                          'Purchase Count': [female_counts_nonunique, male_counts_nonunique, other_counts_nonunique],  \\\n",
    "                          'Average Purchase Price': [female_purchase_price_avg, male_purchase_price_avg, other_purchase_price_avg],\\\n",
    "                         'Total Purchase Value': [female_purchases_total, male_purchases_total, other_purchases_total], \\\n",
    "                         'Average Purchase Total per Person':[female_purchases_per_person, male_purchases_per_person, other_purchases_per_person]})\n",
    "\n",
    "purchases"
   ]
  },
  {
   "cell_type": "code",
   "execution_count": 25,
   "metadata": {},
   "outputs": [
    {
     "name": "stdout",
     "output_type": "stream",
     "text": [
      "45\n",
      "7\n",
      "[0, 9.9, 14.9, 19.9, 24.9, 29.9, 34.9, 39.9, 99999]\n",
      "['<10', '10-14', '15-19', '20-24', '25-29', '30-34', '35-39', '40+']\n"
     ]
    }
   ],
   "source": [
    "# establish bins for ages - exploring different ways as I hate hard coding anything\n",
    "print(pymoli['Age'].max())\n",
    "print(pymoli['Age'].min())\n",
    "\n",
    "age_bins = [0]\n",
    "for i in range(10, 45,5):\n",
    "    age_bins.append(i-0.1)\n",
    "age_bins.append(99999)\n",
    "print(age_bins)\n",
    "\n",
    "# set group names\n",
    "group_names = ['<10']\n",
    "a = 0\n",
    "b = 4\n",
    "for i in range(10, 40, 5):\n",
    "    x = a + i\n",
    "    y = b + i\n",
    "    z = str(x) + '-' + str(y)\n",
    "    group_names.append(z)\n",
    "group_names.append('40+')\n",
    "print(group_names)\n"
   ]
  },
  {
   "cell_type": "code",
   "execution_count": 26,
   "metadata": {},
   "outputs": [
    {
     "data": {
      "text/plain": [
       "20-24    365\n",
       "15-19    136\n",
       "25-29    101\n",
       "30-34     73\n",
       "35-39     41\n",
       "10-14     28\n",
       "<10       23\n",
       "40+       13\n",
       "Name: Age, dtype: int64"
      ]
     },
     "execution_count": 26,
     "metadata": {},
     "output_type": "execute_result"
    }
   ],
   "source": [
    "# put ages in bins: nonunique\n",
    "\n",
    "age_data_nonunique = pd.cut(pymoli['Age'], age_bins, labels = group_names)\n",
    "\n",
    "age_counts_nonunique = age_data_nonunique.value_counts()\n",
    "age_counts_nonunique\n",
    "\n"
   ]
  },
  {
   "cell_type": "code",
   "execution_count": 27,
   "metadata": {},
   "outputs": [
    {
     "data": {
      "text/html": [
       "<div>\n",
       "<style scoped>\n",
       "    .dataframe tbody tr th:only-of-type {\n",
       "        vertical-align: middle;\n",
       "    }\n",
       "\n",
       "    .dataframe tbody tr th {\n",
       "        vertical-align: top;\n",
       "    }\n",
       "\n",
       "    .dataframe thead th {\n",
       "        text-align: right;\n",
       "    }\n",
       "</style>\n",
       "<table border=\"1\" class=\"dataframe\">\n",
       "  <thead>\n",
       "    <tr style=\"text-align: right;\">\n",
       "      <th></th>\n",
       "      <th>Purchase ID</th>\n",
       "      <th>SN</th>\n",
       "      <th>Age</th>\n",
       "      <th>Gender</th>\n",
       "      <th>Item ID</th>\n",
       "      <th>Item Name</th>\n",
       "      <th>Price</th>\n",
       "      <th>name gender</th>\n",
       "      <th>name gender age</th>\n",
       "      <th>age groups</th>\n",
       "    </tr>\n",
       "  </thead>\n",
       "  <tbody>\n",
       "    <tr>\n",
       "      <th>0</th>\n",
       "      <td>0</td>\n",
       "      <td>Lisim78</td>\n",
       "      <td>20</td>\n",
       "      <td>Male</td>\n",
       "      <td>108</td>\n",
       "      <td>Extraction, Quickblade Of Trembling Hands</td>\n",
       "      <td>$3.53</td>\n",
       "      <td>Lisim78 Male</td>\n",
       "      <td>Lisim78 Male 20</td>\n",
       "      <td>20-24</td>\n",
       "    </tr>\n",
       "    <tr>\n",
       "      <th>1</th>\n",
       "      <td>1</td>\n",
       "      <td>Lisovynya38</td>\n",
       "      <td>40</td>\n",
       "      <td>Male</td>\n",
       "      <td>143</td>\n",
       "      <td>Frenzied Scimitar</td>\n",
       "      <td>$1.56</td>\n",
       "      <td>Lisovynya38 Male</td>\n",
       "      <td>Lisovynya38 Male 40</td>\n",
       "      <td>40+</td>\n",
       "    </tr>\n",
       "    <tr>\n",
       "      <th>2</th>\n",
       "      <td>2</td>\n",
       "      <td>Ithergue48</td>\n",
       "      <td>24</td>\n",
       "      <td>Male</td>\n",
       "      <td>92</td>\n",
       "      <td>Final Critic</td>\n",
       "      <td>$4.88</td>\n",
       "      <td>Ithergue48 Male</td>\n",
       "      <td>Ithergue48 Male 24</td>\n",
       "      <td>20-24</td>\n",
       "    </tr>\n",
       "    <tr>\n",
       "      <th>3</th>\n",
       "      <td>3</td>\n",
       "      <td>Chamassasya86</td>\n",
       "      <td>24</td>\n",
       "      <td>Male</td>\n",
       "      <td>100</td>\n",
       "      <td>Blindscythe</td>\n",
       "      <td>$3.27</td>\n",
       "      <td>Chamassasya86 Male</td>\n",
       "      <td>Chamassasya86 Male 24</td>\n",
       "      <td>20-24</td>\n",
       "    </tr>\n",
       "    <tr>\n",
       "      <th>4</th>\n",
       "      <td>4</td>\n",
       "      <td>Iskosia90</td>\n",
       "      <td>23</td>\n",
       "      <td>Male</td>\n",
       "      <td>131</td>\n",
       "      <td>Fury</td>\n",
       "      <td>$1.44</td>\n",
       "      <td>Iskosia90 Male</td>\n",
       "      <td>Iskosia90 Male 23</td>\n",
       "      <td>20-24</td>\n",
       "    </tr>\n",
       "  </tbody>\n",
       "</table>\n",
       "</div>"
      ],
      "text/plain": [
       "   Purchase ID             SN  Age Gender  Item ID  \\\n",
       "0            0        Lisim78   20   Male      108   \n",
       "1            1    Lisovynya38   40   Male      143   \n",
       "2            2     Ithergue48   24   Male       92   \n",
       "3            3  Chamassasya86   24   Male      100   \n",
       "4            4      Iskosia90   23   Male      131   \n",
       "\n",
       "                                   Item Name  Price         name gender  \\\n",
       "0  Extraction, Quickblade Of Trembling Hands  $3.53        Lisim78 Male   \n",
       "1                          Frenzied Scimitar  $1.56    Lisovynya38 Male   \n",
       "2                               Final Critic  $4.88     Ithergue48 Male   \n",
       "3                                Blindscythe  $3.27  Chamassasya86 Male   \n",
       "4                                       Fury  $1.44      Iskosia90 Male   \n",
       "\n",
       "         name gender age age groups  \n",
       "0        Lisim78 Male 20      20-24  \n",
       "1    Lisovynya38 Male 40        40+  \n",
       "2     Ithergue48 Male 24      20-24  \n",
       "3  Chamassasya86 Male 24      20-24  \n",
       "4      Iskosia90 Male 23      20-24  "
      ]
     },
     "execution_count": 27,
     "metadata": {},
     "output_type": "execute_result"
    }
   ],
   "source": [
    "pymoli['age groups'] = pd.cut(pymoli['Age'], age_bins, labels = group_names)\n",
    "pymoli.head()"
   ]
  },
  {
   "cell_type": "code",
   "execution_count": 28,
   "metadata": {},
   "outputs": [
    {
     "data": {
      "text/plain": [
       "20-24    258\n",
       "15-19    107\n",
       "25-29     77\n",
       "30-34     52\n",
       "35-39     31\n",
       "10-14     22\n",
       "<10       17\n",
       "40+       12\n",
       "Name: Player Age, dtype: int64"
      ]
     },
     "execution_count": 28,
     "metadata": {},
     "output_type": "execute_result"
    }
   ],
   "source": [
    "# put ages in bins: unique\n",
    "\n",
    "age_data = pd.cut(player_age['Player Age'], age_bins, labels = group_names)\n",
    "age_data\n",
    "age_counts = age_data.value_counts()\n",
    "age_counts\n",
    "\n"
   ]
  },
  {
   "cell_type": "code",
   "execution_count": 29,
   "metadata": {},
   "outputs": [
    {
     "data": {
      "text/plain": [
       "20-24   44.79%\n",
       "15-19   18.58%\n",
       "25-29   13.37%\n",
       "30-34    9.03%\n",
       "35-39    5.38%\n",
       "10-14    3.82%\n",
       "<10      2.95%\n",
       "40+      2.08%\n",
       "Name: Player Age, dtype: float64"
      ]
     },
     "execution_count": 29,
     "metadata": {},
     "output_type": "execute_result"
    }
   ],
   "source": [
    "# calculate age percentages\n",
    "pd.options.display.float_format = '{:,.2%}'.format\n",
    "age_pct = age_counts / total_players\n",
    "age_pct\n"
   ]
  },
  {
   "cell_type": "code",
   "execution_count": 30,
   "metadata": {},
   "outputs": [
    {
     "data": {
      "text/html": [
       "<div>\n",
       "<style scoped>\n",
       "    .dataframe tbody tr th:only-of-type {\n",
       "        vertical-align: middle;\n",
       "    }\n",
       "\n",
       "    .dataframe tbody tr th {\n",
       "        vertical-align: top;\n",
       "    }\n",
       "\n",
       "    .dataframe thead th {\n",
       "        text-align: right;\n",
       "    }\n",
       "</style>\n",
       "<table border=\"1\" class=\"dataframe\">\n",
       "  <thead>\n",
       "    <tr style=\"text-align: right;\">\n",
       "      <th></th>\n",
       "      <th>Percentage of Players</th>\n",
       "      <th>Total Count</th>\n",
       "    </tr>\n",
       "  </thead>\n",
       "  <tbody>\n",
       "    <tr>\n",
       "      <th>20-24</th>\n",
       "      <td>44.79%</td>\n",
       "      <td>258</td>\n",
       "    </tr>\n",
       "    <tr>\n",
       "      <th>15-19</th>\n",
       "      <td>18.58%</td>\n",
       "      <td>107</td>\n",
       "    </tr>\n",
       "    <tr>\n",
       "      <th>25-29</th>\n",
       "      <td>13.37%</td>\n",
       "      <td>77</td>\n",
       "    </tr>\n",
       "    <tr>\n",
       "      <th>30-34</th>\n",
       "      <td>9.03%</td>\n",
       "      <td>52</td>\n",
       "    </tr>\n",
       "    <tr>\n",
       "      <th>35-39</th>\n",
       "      <td>5.38%</td>\n",
       "      <td>31</td>\n",
       "    </tr>\n",
       "    <tr>\n",
       "      <th>10-14</th>\n",
       "      <td>3.82%</td>\n",
       "      <td>22</td>\n",
       "    </tr>\n",
       "    <tr>\n",
       "      <th>&lt;10</th>\n",
       "      <td>2.95%</td>\n",
       "      <td>17</td>\n",
       "    </tr>\n",
       "    <tr>\n",
       "      <th>40+</th>\n",
       "      <td>2.08%</td>\n",
       "      <td>12</td>\n",
       "    </tr>\n",
       "  </tbody>\n",
       "</table>\n",
       "</div>"
      ],
      "text/plain": [
       "       Percentage of Players  Total Count\n",
       "20-24                 44.79%          258\n",
       "15-19                 18.58%          107\n",
       "25-29                 13.37%           77\n",
       "30-34                  9.03%           52\n",
       "35-39                  5.38%           31\n",
       "10-14                  3.82%           22\n",
       "<10                    2.95%           17\n",
       "40+                    2.08%           12"
      ]
     },
     "execution_count": 30,
     "metadata": {},
     "output_type": "execute_result"
    }
   ],
   "source": [
    "# build a new age dataframe \n",
    "age_analysis = pd.DataFrame({'Percentage of Players': age_pct, \\\n",
    "                            'Total Count': age_counts})\n",
    "age_analysis\n"
   ]
  },
  {
   "cell_type": "code",
   "execution_count": 31,
   "metadata": {},
   "outputs": [
    {
     "data": {
      "text/plain": [
       "age groups\n",
       "<10       23\n",
       "10-14     28\n",
       "15-19    136\n",
       "20-24    365\n",
       "25-29    101\n",
       "30-34     73\n",
       "35-39     41\n",
       "40+       13\n",
       "Name: Price, dtype: int64"
      ]
     },
     "execution_count": 31,
     "metadata": {},
     "output_type": "execute_result"
    }
   ],
   "source": [
    "age_purchase_count = pymoli.groupby('age groups')['Price'].count()\n",
    "age_purchase_count"
   ]
  },
  {
   "cell_type": "code",
   "execution_count": 32,
   "metadata": {},
   "outputs": [
    {
     "data": {
      "text/plain": [
       "age groups\n",
       "<10        $77.13\n",
       "10-14      $82.78\n",
       "15-19     $412.89\n",
       "20-24   $1,114.06\n",
       "25-29     $293.00\n",
       "30-34     $214.00\n",
       "35-39     $147.67\n",
       "40+        $38.24\n",
       "Name: Price, dtype: float64"
      ]
     },
     "execution_count": 32,
     "metadata": {},
     "output_type": "execute_result"
    }
   ],
   "source": [
    "pd.options.display.float_format = '${:,.2f}'.format\n",
    "\n",
    "age_total_purchase = pymoli.groupby('age groups')['Price'].sum()\n",
    "age_total_purchase\n",
    "\n",
    "\n"
   ]
  },
  {
   "cell_type": "code",
   "execution_count": 33,
   "metadata": {},
   "outputs": [
    {
     "data": {
      "text/plain": [
       "age groups\n",
       "<10     $3.35\n",
       "10-14   $2.96\n",
       "15-19   $3.04\n",
       "20-24   $3.05\n",
       "25-29   $2.90\n",
       "30-34   $2.93\n",
       "35-39   $3.60\n",
       "40+     $2.94\n",
       "Name: Price, dtype: float64"
      ]
     },
     "execution_count": 33,
     "metadata": {},
     "output_type": "execute_result"
    }
   ],
   "source": [
    "age_avg_purchase_price = age_total_purchase / age_purchase_count\n",
    "age_avg_purchase_price\n"
   ]
  },
  {
   "cell_type": "code",
   "execution_count": 34,
   "metadata": {},
   "outputs": [
    {
     "data": {
      "text/plain": [
       "10-14   $3.76\n",
       "15-19   $3.86\n",
       "20-24   $4.32\n",
       "25-29   $3.81\n",
       "30-34   $4.12\n",
       "35-39   $4.76\n",
       "40+     $3.19\n",
       "<10     $4.54\n",
       "dtype: float64"
      ]
     },
     "execution_count": 34,
     "metadata": {},
     "output_type": "execute_result"
    }
   ],
   "source": [
    "age_avg_purchase_per_person = age_total_purchase / age_counts\n",
    "age_avg_purchase_per_person\n"
   ]
  },
  {
   "cell_type": "code",
   "execution_count": null,
   "metadata": {},
   "outputs": [],
   "source": []
  },
  {
   "cell_type": "code",
   "execution_count": 35,
   "metadata": {},
   "outputs": [
    {
     "data": {
      "text/html": [
       "<div>\n",
       "<style scoped>\n",
       "    .dataframe tbody tr th:only-of-type {\n",
       "        vertical-align: middle;\n",
       "    }\n",
       "\n",
       "    .dataframe tbody tr th {\n",
       "        vertical-align: top;\n",
       "    }\n",
       "\n",
       "    .dataframe thead th {\n",
       "        text-align: right;\n",
       "    }\n",
       "</style>\n",
       "<table border=\"1\" class=\"dataframe\">\n",
       "  <thead>\n",
       "    <tr style=\"text-align: right;\">\n",
       "      <th></th>\n",
       "      <th>Purchase Count</th>\n",
       "      <th>Average Purchase Price</th>\n",
       "      <th>Total Purchase Value</th>\n",
       "      <th>Avg Total Purchase per Person</th>\n",
       "    </tr>\n",
       "  </thead>\n",
       "  <tbody>\n",
       "    <tr>\n",
       "      <th>10-14</th>\n",
       "      <td>28</td>\n",
       "      <td>$2.96</td>\n",
       "      <td>$82.78</td>\n",
       "      <td>$3.76</td>\n",
       "    </tr>\n",
       "    <tr>\n",
       "      <th>15-19</th>\n",
       "      <td>136</td>\n",
       "      <td>$3.04</td>\n",
       "      <td>$412.89</td>\n",
       "      <td>$3.86</td>\n",
       "    </tr>\n",
       "    <tr>\n",
       "      <th>20-24</th>\n",
       "      <td>365</td>\n",
       "      <td>$3.05</td>\n",
       "      <td>$1,114.06</td>\n",
       "      <td>$4.32</td>\n",
       "    </tr>\n",
       "    <tr>\n",
       "      <th>25-29</th>\n",
       "      <td>101</td>\n",
       "      <td>$2.90</td>\n",
       "      <td>$293.00</td>\n",
       "      <td>$3.81</td>\n",
       "    </tr>\n",
       "    <tr>\n",
       "      <th>30-34</th>\n",
       "      <td>73</td>\n",
       "      <td>$2.93</td>\n",
       "      <td>$214.00</td>\n",
       "      <td>$4.12</td>\n",
       "    </tr>\n",
       "    <tr>\n",
       "      <th>35-39</th>\n",
       "      <td>41</td>\n",
       "      <td>$3.60</td>\n",
       "      <td>$147.67</td>\n",
       "      <td>$4.76</td>\n",
       "    </tr>\n",
       "    <tr>\n",
       "      <th>40+</th>\n",
       "      <td>13</td>\n",
       "      <td>$2.94</td>\n",
       "      <td>$38.24</td>\n",
       "      <td>$3.19</td>\n",
       "    </tr>\n",
       "    <tr>\n",
       "      <th>&lt;10</th>\n",
       "      <td>23</td>\n",
       "      <td>$3.35</td>\n",
       "      <td>$77.13</td>\n",
       "      <td>$4.54</td>\n",
       "    </tr>\n",
       "  </tbody>\n",
       "</table>\n",
       "</div>"
      ],
      "text/plain": [
       "       Purchase Count  Average Purchase Price  Total Purchase Value  \\\n",
       "10-14              28                   $2.96                $82.78   \n",
       "15-19             136                   $3.04               $412.89   \n",
       "20-24             365                   $3.05             $1,114.06   \n",
       "25-29             101                   $2.90               $293.00   \n",
       "30-34              73                   $2.93               $214.00   \n",
       "35-39              41                   $3.60               $147.67   \n",
       "40+                13                   $2.94                $38.24   \n",
       "<10                23                   $3.35                $77.13   \n",
       "\n",
       "       Avg Total Purchase per Person  \n",
       "10-14                          $3.76  \n",
       "15-19                          $3.86  \n",
       "20-24                          $4.32  \n",
       "25-29                          $3.81  \n",
       "30-34                          $4.12  \n",
       "35-39                          $4.76  \n",
       "40+                            $3.19  \n",
       "<10                            $4.54  "
      ]
     },
     "execution_count": 35,
     "metadata": {},
     "output_type": "execute_result"
    }
   ],
   "source": [
    "# build a new age dataframe \n",
    "purchase_analysis = pd.DataFrame({\n",
    "                            'Purchase Count': age_purchase_count, \\\n",
    "                                 'Average Purchase Price': age_avg_purchase_price,\\\n",
    "                                 'Total Purchase Value':age_total_purchase, \\\n",
    "                                 'Avg Total Purchase per Person': age_avg_purchase_per_person})\n",
    "purchase_analysis"
   ]
  },
  {
   "cell_type": "code",
   "execution_count": 36,
   "metadata": {},
   "outputs": [
    {
     "data": {
      "text/plain": [
       "SN\n",
       "Lisosia93     $18.96\n",
       "Idastidru52   $15.45\n",
       "Chamjask73    $13.83\n",
       "Iral74        $13.62\n",
       "Iskadarya95   $13.10\n",
       "Name: Price, dtype: float64"
      ]
     },
     "execution_count": 36,
     "metadata": {},
     "output_type": "execute_result"
    }
   ],
   "source": [
    "player_spend = pymoli.groupby('SN')['Price'].sum()\n",
    "player_spend_sorted = player_spend.sort_values(ascending = False)\n",
    "player_spend_sorted.head()"
   ]
  },
  {
   "cell_type": "code",
   "execution_count": 37,
   "metadata": {},
   "outputs": [
    {
     "data": {
      "text/plain": [
       "SN\n",
       "Lisosia93      5\n",
       "Iral74         4\n",
       "Idastidru52    4\n",
       "Aina42         3\n",
       "Iri67          3\n",
       "Name: Price, dtype: int64"
      ]
     },
     "execution_count": 37,
     "metadata": {},
     "output_type": "execute_result"
    }
   ],
   "source": [
    "player_spend_count = pymoli.groupby('SN')['Price'].count()\n",
    "player_spend_count_sorted = player_spend_count.sort_values(ascending = False)\n",
    "player_spend_count_sorted.head()"
   ]
  },
  {
   "cell_type": "code",
   "execution_count": 38,
   "metadata": {},
   "outputs": [
    {
     "data": {
      "text/plain": [
       "SN\n",
       "Adairialis76   $2.28\n",
       "Adastirin33    $4.48\n",
       "Aeda94         $4.91\n",
       "Aela59         $4.32\n",
       "Aelaria33      $1.79\n",
       "Name: Price, dtype: float64"
      ]
     },
     "execution_count": 38,
     "metadata": {},
     "output_type": "execute_result"
    }
   ],
   "source": [
    "player_spend_avg = (player_spend_sorted / player_spend_count)\n",
    "\n",
    "player_spend_avg.head()"
   ]
  },
  {
   "cell_type": "code",
   "execution_count": 48,
   "metadata": {},
   "outputs": [
    {
     "data": {
      "text/html": [
       "<div>\n",
       "<style scoped>\n",
       "    .dataframe tbody tr th:only-of-type {\n",
       "        vertical-align: middle;\n",
       "    }\n",
       "\n",
       "    .dataframe tbody tr th {\n",
       "        vertical-align: top;\n",
       "    }\n",
       "\n",
       "    .dataframe thead th {\n",
       "        text-align: right;\n",
       "    }\n",
       "</style>\n",
       "<table border=\"1\" class=\"dataframe\">\n",
       "  <thead>\n",
       "    <tr style=\"text-align: right;\">\n",
       "      <th></th>\n",
       "      <th>Purchase Count</th>\n",
       "      <th>Average Purchase Price</th>\n",
       "      <th>Total Purchase Value</th>\n",
       "    </tr>\n",
       "    <tr>\n",
       "      <th>SN</th>\n",
       "      <th></th>\n",
       "      <th></th>\n",
       "      <th></th>\n",
       "    </tr>\n",
       "  </thead>\n",
       "  <tbody>\n",
       "    <tr>\n",
       "      <th>Lisosia93</th>\n",
       "      <td>5</td>\n",
       "      <td>$3.79</td>\n",
       "      <td>$18.96</td>\n",
       "    </tr>\n",
       "    <tr>\n",
       "      <th>Idastidru52</th>\n",
       "      <td>4</td>\n",
       "      <td>$3.86</td>\n",
       "      <td>$15.45</td>\n",
       "    </tr>\n",
       "    <tr>\n",
       "      <th>Chamjask73</th>\n",
       "      <td>3</td>\n",
       "      <td>$4.61</td>\n",
       "      <td>$13.83</td>\n",
       "    </tr>\n",
       "    <tr>\n",
       "      <th>Iral74</th>\n",
       "      <td>4</td>\n",
       "      <td>$3.40</td>\n",
       "      <td>$13.62</td>\n",
       "    </tr>\n",
       "    <tr>\n",
       "      <th>Iskadarya95</th>\n",
       "      <td>3</td>\n",
       "      <td>$4.37</td>\n",
       "      <td>$13.10</td>\n",
       "    </tr>\n",
       "  </tbody>\n",
       "</table>\n",
       "</div>"
      ],
      "text/plain": [
       "             Purchase Count  Average Purchase Price  Total Purchase Value\n",
       "SN                                                                       \n",
       "Lisosia93                 5                   $3.79                $18.96\n",
       "Idastidru52               4                   $3.86                $15.45\n",
       "Chamjask73                3                   $4.61                $13.83\n",
       "Iral74                    4                   $3.40                $13.62\n",
       "Iskadarya95               3                   $4.37                $13.10"
      ]
     },
     "execution_count": 48,
     "metadata": {},
     "output_type": "execute_result"
    }
   ],
   "source": [
    "top_spenders = pd.DataFrame({'Purchase Count': player_spend_count, \\\n",
    "                            'Average Purchase Price': player_spend_avg, \\\n",
    "                            'Total Purchase Value': player_spend})\n",
    "top_spenders = top_spenders.sort_values(['Total Purchase Value'], ascending = False)\n",
    "top_spenders.head()"
   ]
  },
  {
   "cell_type": "code",
   "execution_count": 40,
   "metadata": {},
   "outputs": [
    {
     "data": {
      "text/plain": [
       "Item Name\n",
       "Final Critic                                    13\n",
       "Oathbreaker, Last Hope of the Breaking Storm    12\n",
       "Nirvana                                          9\n",
       "Persuasion                                       9\n",
       "Fiery Glass Crusader                             9\n",
       "Name: Price, dtype: int32"
      ]
     },
     "execution_count": 40,
     "metadata": {},
     "output_type": "execute_result"
    }
   ],
   "source": [
    "item_ranking = pymoli.groupby('Item Name')['Price'].count()\n",
    "item_ranking_sorted = item_ranking.sort_values(ascending = False)\n",
    "item_ranking_sorted = item_ranking_sorted.astype('int')\n",
    "item_ranking_sorted.head()\n",
    "# len(item_ranking)"
   ]
  },
  {
   "cell_type": "code",
   "execution_count": 41,
   "metadata": {},
   "outputs": [
    {
     "data": {
      "text/plain": [
       "Item Name\n",
       "Final Critic                                   $59.99\n",
       "Oathbreaker, Last Hope of the Breaking Storm   $50.76\n",
       "Nirvana                                        $44.10\n",
       "Fiery Glass Crusader                           $41.22\n",
       "Singed Scalpel                                 $34.80\n",
       "Name: Price, dtype: float64"
      ]
     },
     "execution_count": 41,
     "metadata": {},
     "output_type": "execute_result"
    }
   ],
   "source": [
    "item_rev = pymoli.groupby('Item Name')['Price'].sum()\n",
    "item_rev_sorted = item_rev.sort_values(ascending = False)\n",
    "item_rev_sorted.head()\n",
    "# len(item_rev)"
   ]
  },
  {
   "cell_type": "code",
   "execution_count": 42,
   "metadata": {},
   "outputs": [
    {
     "data": {
      "text/plain": [
       "Item Name\n",
       "Abyssal Shard                     162\n",
       "Aetherius, Boon of the Blessed    137\n",
       "Agatha                            120\n",
       "Alpha                             130\n",
       "Alpha, Oath of Zeal                79\n",
       "Name: Item ID, dtype: int64"
      ]
     },
     "execution_count": 42,
     "metadata": {},
     "output_type": "execute_result"
    }
   ],
   "source": [
    "# find Item IDs\n",
    "id = pymoli.groupby('Item Name')['Item ID'].max()\n",
    "id.head()\n"
   ]
  },
  {
   "cell_type": "code",
   "execution_count": 43,
   "metadata": {},
   "outputs": [
    {
     "data": {
      "text/plain": [
       "Item Name\n",
       "Abyssal Shard                    $2.67\n",
       "Aetherius, Boon of the Blessed   $3.39\n",
       "Agatha                           $3.08\n",
       "Alpha                            $2.07\n",
       "Alpha, Oath of Zeal              $4.05\n",
       "Name: Price, dtype: float64"
      ]
     },
     "execution_count": 43,
     "metadata": {},
     "output_type": "execute_result"
    }
   ],
   "source": [
    "# find Item price\n",
    "price = pymoli.groupby('Item Name')['Price'].max()\n",
    "price.head()\n"
   ]
  },
  {
   "cell_type": "code",
   "execution_count": 51,
   "metadata": {},
   "outputs": [
    {
     "data": {
      "text/html": [
       "<div>\n",
       "<style scoped>\n",
       "    .dataframe tbody tr th:only-of-type {\n",
       "        vertical-align: middle;\n",
       "    }\n",
       "\n",
       "    .dataframe tbody tr th {\n",
       "        vertical-align: top;\n",
       "    }\n",
       "\n",
       "    .dataframe thead th {\n",
       "        text-align: right;\n",
       "    }\n",
       "</style>\n",
       "<table border=\"1\" class=\"dataframe\">\n",
       "  <thead>\n",
       "    <tr style=\"text-align: right;\">\n",
       "      <th></th>\n",
       "      <th>Item ID</th>\n",
       "      <th>Purchase Count</th>\n",
       "      <th>price</th>\n",
       "      <th>Total Purchase Value</th>\n",
       "    </tr>\n",
       "    <tr>\n",
       "      <th>Item Name</th>\n",
       "      <th></th>\n",
       "      <th></th>\n",
       "      <th></th>\n",
       "      <th></th>\n",
       "    </tr>\n",
       "  </thead>\n",
       "  <tbody>\n",
       "    <tr>\n",
       "      <th>Final Critic</th>\n",
       "      <td>101</td>\n",
       "      <td>13</td>\n",
       "      <td>$4.88</td>\n",
       "      <td>$59.99</td>\n",
       "    </tr>\n",
       "    <tr>\n",
       "      <th>Oathbreaker, Last Hope of the Breaking Storm</th>\n",
       "      <td>178</td>\n",
       "      <td>12</td>\n",
       "      <td>$4.23</td>\n",
       "      <td>$50.76</td>\n",
       "    </tr>\n",
       "    <tr>\n",
       "      <th>Persuasion</th>\n",
       "      <td>141</td>\n",
       "      <td>9</td>\n",
       "      <td>$3.33</td>\n",
       "      <td>$28.99</td>\n",
       "    </tr>\n",
       "    <tr>\n",
       "      <th>Nirvana</th>\n",
       "      <td>82</td>\n",
       "      <td>9</td>\n",
       "      <td>$4.90</td>\n",
       "      <td>$44.10</td>\n",
       "    </tr>\n",
       "    <tr>\n",
       "      <th>Extraction, Quickblade Of Trembling Hands</th>\n",
       "      <td>108</td>\n",
       "      <td>9</td>\n",
       "      <td>$3.53</td>\n",
       "      <td>$31.77</td>\n",
       "    </tr>\n",
       "  </tbody>\n",
       "</table>\n",
       "</div>"
      ],
      "text/plain": [
       "                                              Item ID  Purchase Count  price  \\\n",
       "Item Name                                                                      \n",
       "Final Critic                                      101              13  $4.88   \n",
       "Oathbreaker, Last Hope of the Breaking Storm      178              12  $4.23   \n",
       "Persuasion                                        141               9  $3.33   \n",
       "Nirvana                                            82               9  $4.90   \n",
       "Extraction, Quickblade Of Trembling Hands         108               9  $3.53   \n",
       "\n",
       "                                              Total Purchase Value  \n",
       "Item Name                                                           \n",
       "Final Critic                                                $59.99  \n",
       "Oathbreaker, Last Hope of the Breaking Storm                $50.76  \n",
       "Persuasion                                                  $28.99  \n",
       "Nirvana                                                     $44.10  \n",
       "Extraction, Quickblade Of Trembling Hands                   $31.77  "
      ]
     },
     "execution_count": 51,
     "metadata": {},
     "output_type": "execute_result"
    }
   ],
   "source": [
    "\n",
    "most_popular_items = pd.DataFrame({ 'Item ID': id, \\\n",
    "                                   'Purchase Count': item_ranking, \\\n",
    "                                  'price': price, \\\n",
    "                                 'Total Purchase Value': item_rev})\n",
    "most_popular_items = most_popular_items.sort_values(['Purchase Count'], ascending = False)\n",
    "most_popular_items.head()"
   ]
  },
  {
   "cell_type": "code",
   "execution_count": 45,
   "metadata": {},
   "outputs": [
    {
     "data": {
      "text/html": [
       "<div>\n",
       "<style scoped>\n",
       "    .dataframe tbody tr th:only-of-type {\n",
       "        vertical-align: middle;\n",
       "    }\n",
       "\n",
       "    .dataframe tbody tr th {\n",
       "        vertical-align: top;\n",
       "    }\n",
       "\n",
       "    .dataframe thead th {\n",
       "        text-align: right;\n",
       "    }\n",
       "</style>\n",
       "<table border=\"1\" class=\"dataframe\">\n",
       "  <thead>\n",
       "    <tr style=\"text-align: right;\">\n",
       "      <th></th>\n",
       "      <th>Price</th>\n",
       "      <th>Purchase Count</th>\n",
       "      <th>Item ID</th>\n",
       "      <th>Total Purchase Value</th>\n",
       "    </tr>\n",
       "    <tr>\n",
       "      <th>Item Name</th>\n",
       "      <th></th>\n",
       "      <th></th>\n",
       "      <th></th>\n",
       "      <th></th>\n",
       "    </tr>\n",
       "  </thead>\n",
       "  <tbody>\n",
       "    <tr>\n",
       "      <th>Final Critic</th>\n",
       "      <td>$4.88</td>\n",
       "      <td>13</td>\n",
       "      <td>101</td>\n",
       "      <td>$59.99</td>\n",
       "    </tr>\n",
       "    <tr>\n",
       "      <th>Oathbreaker, Last Hope of the Breaking Storm</th>\n",
       "      <td>$4.23</td>\n",
       "      <td>12</td>\n",
       "      <td>178</td>\n",
       "      <td>$50.76</td>\n",
       "    </tr>\n",
       "    <tr>\n",
       "      <th>Nirvana</th>\n",
       "      <td>$4.90</td>\n",
       "      <td>9</td>\n",
       "      <td>82</td>\n",
       "      <td>$44.10</td>\n",
       "    </tr>\n",
       "    <tr>\n",
       "      <th>Fiery Glass Crusader</th>\n",
       "      <td>$4.58</td>\n",
       "      <td>9</td>\n",
       "      <td>145</td>\n",
       "      <td>$41.22</td>\n",
       "    </tr>\n",
       "    <tr>\n",
       "      <th>Singed Scalpel</th>\n",
       "      <td>$4.35</td>\n",
       "      <td>8</td>\n",
       "      <td>103</td>\n",
       "      <td>$34.80</td>\n",
       "    </tr>\n",
       "  </tbody>\n",
       "</table>\n",
       "</div>"
      ],
      "text/plain": [
       "                                              Price  Purchase Count  Item ID  \\\n",
       "Item Name                                                                      \n",
       "Final Critic                                  $4.88              13      101   \n",
       "Oathbreaker, Last Hope of the Breaking Storm  $4.23              12      178   \n",
       "Nirvana                                       $4.90               9       82   \n",
       "Fiery Glass Crusader                          $4.58               9      145   \n",
       "Singed Scalpel                                $4.35               8      103   \n",
       "\n",
       "                                              Total Purchase Value  \n",
       "Item Name                                                           \n",
       "Final Critic                                                $59.99  \n",
       "Oathbreaker, Last Hope of the Breaking Storm                $50.76  \n",
       "Nirvana                                                     $44.10  \n",
       "Fiery Glass Crusader                                        $41.22  \n",
       "Singed Scalpel                                              $34.80  "
      ]
     },
     "execution_count": 45,
     "metadata": {},
     "output_type": "execute_result"
    }
   ],
   "source": [
    "most_profitable_items = pd.DataFrame({'Price': price, \\\n",
    "                                   'Purchase Count': item_ranking, \\\n",
    "                                  'Item ID': id, \\\n",
    "                                 'Total Purchase Value': item_rev})\n",
    "most_profitable_items = most_profitable_items.sort_values(['Total Purchase Value'], ascending = False)\n",
    "most_profitbable_items = most_profitable_items.set_index('Item ID')\n",
    "most_profitable_items.head()"
   ]
  },
  {
   "cell_type": "code",
   "execution_count": null,
   "metadata": {},
   "outputs": [],
   "source": []
  },
  {
   "cell_type": "code",
   "execution_count": null,
   "metadata": {},
   "outputs": [],
   "source": []
  }
 ],
 "metadata": {
  "kernelspec": {
   "display_name": "Python [conda env:PythonData]",
   "language": "python",
   "name": "conda-env-PythonData-py"
  },
  "language_info": {
   "codemirror_mode": {
    "name": "ipython",
    "version": 3
   },
   "file_extension": ".py",
   "mimetype": "text/x-python",
   "name": "python",
   "nbconvert_exporter": "python",
   "pygments_lexer": "ipython3",
   "version": "3.6.5"
  }
 },
 "nbformat": 4,
 "nbformat_minor": 2
}
