{
 "cells": [
  {
   "cell_type": "code",
   "execution_count": 3,
   "metadata": {},
   "outputs": [],
   "source": [
    "import pandas as pd"
   ]
  },
  {
   "cell_type": "code",
   "execution_count": 4,
   "metadata": {},
   "outputs": [],
   "source": [
    "# pd.options.display.float_format = '${:,.2f}'.format\n",
    "formatter = {\n",
    "    'payment': '${:,.2f}',\n",
    "    'percent_completed': '{:,.1%}'\n",
    "}"
   ]
  },
  {
   "cell_type": "code",
   "execution_count": 7,
   "metadata": {},
   "outputs": [
    {
     "data": {
      "text/html": [
       "<style  type=\"text/css\" >\n",
       "</style>  \n",
       "<table id=\"T_654a59c2_8b00_11e8_93ee_acbc32a9fc2f\" > \n",
       "<thead>    <tr> \n",
       "        <th class=\"blank level0\" ></th> \n",
       "        <th class=\"col_heading level0 col0\" >name</th> \n",
       "        <th class=\"col_heading level0 col1\" >gender</th> \n",
       "        <th class=\"col_heading level0 col2\" >age</th> \n",
       "        <th class=\"col_heading level0 col3\" >payment</th> \n",
       "        <th class=\"col_heading level0 col4\" >points</th> \n",
       "        <th class=\"col_heading level0 col5\" >percent_completed</th> \n",
       "    </tr></thead> \n",
       "<tbody>    <tr> \n",
       "        <th id=\"T_654a59c2_8b00_11e8_93ee_acbc32a9fc2flevel0_row0\" class=\"row_heading level0 row0\" >0</th> \n",
       "        <td id=\"T_654a59c2_8b00_11e8_93ee_acbc32a9fc2frow0_col0\" class=\"data row0 col0\" >Steve</td> \n",
       "        <td id=\"T_654a59c2_8b00_11e8_93ee_acbc32a9fc2frow0_col1\" class=\"data row0 col1\" >Male</td> \n",
       "        <td id=\"T_654a59c2_8b00_11e8_93ee_acbc32a9fc2frow0_col2\" class=\"data row0 col2\" >23</td> \n",
       "        <td id=\"T_654a59c2_8b00_11e8_93ee_acbc32a9fc2frow0_col3\" class=\"data row0 col3\" >$13.00</td> \n",
       "        <td id=\"T_654a59c2_8b00_11e8_93ee_acbc32a9fc2frow0_col4\" class=\"data row0 col4\" >1.12</td> \n",
       "        <td id=\"T_654a59c2_8b00_11e8_93ee_acbc32a9fc2frow0_col5\" class=\"data row0 col5\" >63.0%</td> \n",
       "    </tr>    <tr> \n",
       "        <th id=\"T_654a59c2_8b00_11e8_93ee_acbc32a9fc2flevel0_row1\" class=\"row_heading level0 row1\" >1</th> \n",
       "        <td id=\"T_654a59c2_8b00_11e8_93ee_acbc32a9fc2frow1_col0\" class=\"data row1 col0\" >Mike</td> \n",
       "        <td id=\"T_654a59c2_8b00_11e8_93ee_acbc32a9fc2frow1_col1\" class=\"data row1 col1\" >Male</td> \n",
       "        <td id=\"T_654a59c2_8b00_11e8_93ee_acbc32a9fc2frow1_col2\" class=\"data row1 col2\" >42</td> \n",
       "        <td id=\"T_654a59c2_8b00_11e8_93ee_acbc32a9fc2frow1_col3\" class=\"data row1 col3\" >$14.33</td> \n",
       "        <td id=\"T_654a59c2_8b00_11e8_93ee_acbc32a9fc2frow1_col4\" class=\"data row1 col4\" >2.31</td> \n",
       "        <td id=\"T_654a59c2_8b00_11e8_93ee_acbc32a9fc2frow1_col5\" class=\"data row1 col5\" >52.0%</td> \n",
       "    </tr>    <tr> \n",
       "        <th id=\"T_654a59c2_8b00_11e8_93ee_acbc32a9fc2flevel0_row2\" class=\"row_heading level0 row2\" >2</th> \n",
       "        <td id=\"T_654a59c2_8b00_11e8_93ee_acbc32a9fc2frow2_col0\" class=\"data row2 col0\" >Lauren</td> \n",
       "        <td id=\"T_654a59c2_8b00_11e8_93ee_acbc32a9fc2frow2_col1\" class=\"data row2 col1\" >Female</td> \n",
       "        <td id=\"T_654a59c2_8b00_11e8_93ee_acbc32a9fc2frow2_col2\" class=\"data row2 col2\" >28</td> \n",
       "        <td id=\"T_654a59c2_8b00_11e8_93ee_acbc32a9fc2frow2_col3\" class=\"data row2 col3\" >$13.43</td> \n",
       "        <td id=\"T_654a59c2_8b00_11e8_93ee_acbc32a9fc2frow2_col4\" class=\"data row2 col4\" >2.35</td> \n",
       "        <td id=\"T_654a59c2_8b00_11e8_93ee_acbc32a9fc2frow2_col5\" class=\"data row2 col5\" >72.0%</td> \n",
       "    </tr>    <tr> \n",
       "        <th id=\"T_654a59c2_8b00_11e8_93ee_acbc32a9fc2flevel0_row3\" class=\"row_heading level0 row3\" >3</th> \n",
       "        <td id=\"T_654a59c2_8b00_11e8_93ee_acbc32a9fc2frow3_col0\" class=\"data row3 col0\" >Michelle</td> \n",
       "        <td id=\"T_654a59c2_8b00_11e8_93ee_acbc32a9fc2frow3_col1\" class=\"data row3 col1\" >Female</td> \n",
       "        <td id=\"T_654a59c2_8b00_11e8_93ee_acbc32a9fc2frow3_col2\" class=\"data row3 col2\" >31</td> \n",
       "        <td id=\"T_654a59c2_8b00_11e8_93ee_acbc32a9fc2frow3_col3\" class=\"data row3 col3\" >$15.37</td> \n",
       "        <td id=\"T_654a59c2_8b00_11e8_93ee_acbc32a9fc2frow3_col4\" class=\"data row3 col4\" >2.74</td> \n",
       "        <td id=\"T_654a59c2_8b00_11e8_93ee_acbc32a9fc2frow3_col5\" class=\"data row3 col5\" >91.0%</td> \n",
       "    </tr>    <tr> \n",
       "        <th id=\"T_654a59c2_8b00_11e8_93ee_acbc32a9fc2flevel0_row4\" class=\"row_heading level0 row4\" >4</th> \n",
       "        <td id=\"T_654a59c2_8b00_11e8_93ee_acbc32a9fc2frow4_col0\" class=\"data row4 col0\" >Stephanie</td> \n",
       "        <td id=\"T_654a59c2_8b00_11e8_93ee_acbc32a9fc2frow4_col1\" class=\"data row4 col1\" >Female</td> \n",
       "        <td id=\"T_654a59c2_8b00_11e8_93ee_acbc32a9fc2frow4_col2\" class=\"data row4 col2\" >39</td> \n",
       "        <td id=\"T_654a59c2_8b00_11e8_93ee_acbc32a9fc2frow4_col3\" class=\"data row4 col3\" >$12.33</td> \n",
       "        <td id=\"T_654a59c2_8b00_11e8_93ee_acbc32a9fc2frow4_col4\" class=\"data row4 col4\" >1.92</td> \n",
       "        <td id=\"T_654a59c2_8b00_11e8_93ee_acbc32a9fc2frow4_col5\" class=\"data row4 col5\" >33.0%</td> \n",
       "    </tr></tbody> \n",
       "</table> "
      ],
      "text/plain": [
       "<pandas.io.formats.style.Styler at 0x10e6be7f0>"
      ]
     },
     "execution_count": 7,
     "metadata": {},
     "output_type": "execute_result"
    }
   ],
   "source": [
    "df = pd.DataFrame({\n",
    "    'name': ['Steve', 'Mike', 'Lauren', 'Michelle', 'Stephanie'],\n",
    "    'gender': ['Male', 'Male', 'Female', 'Female', 'Female'],\n",
    "    'age': [23, 42, 28, 31, 39],\n",
    "    'payment': [13.00, 14.33, 13.43, 15.37, 12.33],\n",
    "    'points': [1.12, 2.31, 2.35, 2.74, 1.92],\n",
    "    'percent_completed': [.63, .52, .72, .91, .33]\n",
    "})\n",
    "df\n",
    "df.style.format(formatter)"
   ]
  },
  {
   "cell_type": "code",
   "execution_count": 8,
   "metadata": {},
   "outputs": [
    {
     "data": {
      "text/plain": [
       "5"
      ]
     },
     "execution_count": 8,
     "metadata": {},
     "output_type": "execute_result"
    }
   ],
   "source": [
    "total_num = df['gender'].count()\n",
    "total_num"
   ]
  },
  {
   "cell_type": "code",
   "execution_count": 10,
   "metadata": {},
   "outputs": [
    {
     "name": "stdout",
     "output_type": "stream",
     "text": [
      "<class 'pandas.core.series.Series'>\n"
     ]
    },
    {
     "data": {
      "text/plain": [
       "Female    3\n",
       "Male      2\n",
       "Name: gender, dtype: int64"
      ]
     },
     "execution_count": 10,
     "metadata": {},
     "output_type": "execute_result"
    }
   ],
   "source": [
    "gender_counts = df['gender'].value_counts()\n",
    "print(type(gender_counts))\n",
    "gender_counts"
   ]
  },
  {
   "cell_type": "markdown",
   "metadata": {},
   "source": [
    "### Method 1: combine two series"
   ]
  },
  {
   "cell_type": "code",
   "execution_count": 11,
   "metadata": {},
   "outputs": [
    {
     "data": {
      "text/plain": [
       "Female    60.0\n",
       "Male      40.0\n",
       "Name: gender, dtype: float64"
      ]
     },
     "execution_count": 11,
     "metadata": {},
     "output_type": "execute_result"
    }
   ],
   "source": [
    "gender_percents = gender_counts / total_num * 100\n",
    "gender_percents"
   ]
  },
  {
   "cell_type": "code",
   "execution_count": 12,
   "metadata": {},
   "outputs": [
    {
     "data": {
      "text/html": [
       "<div>\n",
       "<style scoped>\n",
       "    .dataframe tbody tr th:only-of-type {\n",
       "        vertical-align: middle;\n",
       "    }\n",
       "\n",
       "    .dataframe tbody tr th {\n",
       "        vertical-align: top;\n",
       "    }\n",
       "\n",
       "    .dataframe thead th {\n",
       "        text-align: right;\n",
       "    }\n",
       "</style>\n",
       "<table border=\"1\" class=\"dataframe\">\n",
       "  <thead>\n",
       "    <tr style=\"text-align: right;\">\n",
       "      <th></th>\n",
       "      <th>Total Count</th>\n",
       "      <th>Percent of Total</th>\n",
       "    </tr>\n",
       "  </thead>\n",
       "  <tbody>\n",
       "    <tr>\n",
       "      <th>Female</th>\n",
       "      <td>3</td>\n",
       "      <td>60.0</td>\n",
       "    </tr>\n",
       "    <tr>\n",
       "      <th>Male</th>\n",
       "      <td>2</td>\n",
       "      <td>40.0</td>\n",
       "    </tr>\n",
       "  </tbody>\n",
       "</table>\n",
       "</div>"
      ],
      "text/plain": [
       "        Total Count  Percent of Total\n",
       "Female            3              60.0\n",
       "Male              2              40.0"
      ]
     },
     "execution_count": 12,
     "metadata": {},
     "output_type": "execute_result"
    }
   ],
   "source": [
    "gender_stats_df = pd.DataFrame({\n",
    "    'Total Count': gender_counts,\n",
    "    'Percent of Total': gender_percents\n",
    "}).round(2)\n",
    "gender_stats_df"
   ]
  },
  {
   "cell_type": "markdown",
   "metadata": {},
   "source": [
    "### Method 2: to_frame + apply"
   ]
  },
  {
   "cell_type": "code",
   "execution_count": 13,
   "metadata": {},
   "outputs": [
    {
     "name": "stdout",
     "output_type": "stream",
     "text": [
      "<class 'pandas.core.frame.DataFrame'>\n"
     ]
    },
    {
     "data": {
      "text/html": [
       "<div>\n",
       "<style scoped>\n",
       "    .dataframe tbody tr th:only-of-type {\n",
       "        vertical-align: middle;\n",
       "    }\n",
       "\n",
       "    .dataframe tbody tr th {\n",
       "        vertical-align: top;\n",
       "    }\n",
       "\n",
       "    .dataframe thead th {\n",
       "        text-align: right;\n",
       "    }\n",
       "</style>\n",
       "<table border=\"1\" class=\"dataframe\">\n",
       "  <thead>\n",
       "    <tr style=\"text-align: right;\">\n",
       "      <th></th>\n",
       "      <th>Total Count</th>\n",
       "    </tr>\n",
       "  </thead>\n",
       "  <tbody>\n",
       "    <tr>\n",
       "      <th>Female</th>\n",
       "      <td>3</td>\n",
       "    </tr>\n",
       "    <tr>\n",
       "      <th>Male</th>\n",
       "      <td>2</td>\n",
       "    </tr>\n",
       "  </tbody>\n",
       "</table>\n",
       "</div>"
      ],
      "text/plain": [
       "        Total Count\n",
       "Female            3\n",
       "Male              2"
      ]
     },
     "execution_count": 13,
     "metadata": {},
     "output_type": "execute_result"
    }
   ],
   "source": [
    "gender_stats_df = gender_counts.to_frame(name='Total Count')\n",
    "print(type(gender_stats_df))\n",
    "gender_stats_df"
   ]
  },
  {
   "cell_type": "code",
   "execution_count": 14,
   "metadata": {},
   "outputs": [
    {
     "data": {
      "text/html": [
       "<div>\n",
       "<style scoped>\n",
       "    .dataframe tbody tr th:only-of-type {\n",
       "        vertical-align: middle;\n",
       "    }\n",
       "\n",
       "    .dataframe tbody tr th {\n",
       "        vertical-align: top;\n",
       "    }\n",
       "\n",
       "    .dataframe thead th {\n",
       "        text-align: right;\n",
       "    }\n",
       "</style>\n",
       "<table border=\"1\" class=\"dataframe\">\n",
       "  <thead>\n",
       "    <tr style=\"text-align: right;\">\n",
       "      <th></th>\n",
       "      <th>Total Count</th>\n",
       "      <th>Percent of Total</th>\n",
       "    </tr>\n",
       "  </thead>\n",
       "  <tbody>\n",
       "    <tr>\n",
       "      <th>Female</th>\n",
       "      <td>3</td>\n",
       "      <td>60.0</td>\n",
       "    </tr>\n",
       "    <tr>\n",
       "      <th>Male</th>\n",
       "      <td>2</td>\n",
       "      <td>40.0</td>\n",
       "    </tr>\n",
       "  </tbody>\n",
       "</table>\n",
       "</div>"
      ],
      "text/plain": [
       "        Total Count  Percent of Total\n",
       "Female            3              60.0\n",
       "Male              2              40.0"
      ]
     },
     "execution_count": 14,
     "metadata": {},
     "output_type": "execute_result"
    }
   ],
   "source": [
    "gender_stats_df['Percent of Total'] = gender_stats_df.apply(\n",
    "    lambda row: row['Total Count'] / total_num * 100, axis=1\n",
    ")\n",
    "gender_stats_df"
   ]
  },
  {
   "cell_type": "code",
   "execution_count": null,
   "metadata": {},
   "outputs": [],
   "source": []
  }
 ],
 "metadata": {
  "kernelspec": {
   "display_name": "Python [conda env:PythonData]",
   "language": "python",
   "name": "conda-env-PythonData-py"
  },
  "language_info": {
   "codemirror_mode": {
    "name": "ipython",
    "version": 3
   },
   "file_extension": ".py",
   "mimetype": "text/x-python",
   "name": "python",
   "nbconvert_exporter": "python",
   "pygments_lexer": "ipython3",
   "version": "3.6.5"
  }
 },
 "nbformat": 4,
 "nbformat_minor": 2
}
